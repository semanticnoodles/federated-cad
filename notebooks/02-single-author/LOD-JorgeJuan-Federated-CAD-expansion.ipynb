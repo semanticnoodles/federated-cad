{
 "cells": [
  {
   "cell_type": "markdown",
   "id": "W93QtCFyJoXP",
   "metadata": {
    "id": "W93QtCFyJoXP"
   },
   "source": [
    "# Creating Collections as Data Using Federated Queries\n",
    "This is a quick pipeline to put together the queries, simplifying the process of obtaining a cumulative dataframe in .CSV format."
   ]
  },
  {
   "cell_type": "code",
   "execution_count": 1,
   "id": "t3a5tqSautLh",
   "metadata": {
    "id": "t3a5tqSautLh"
   },
   "outputs": [
    {
     "name": "stderr",
     "output_type": "stream",
     "text": [
      "/home/gustavo/anaconda3/lib/python3.11/site-packages/pandas/core/arrays/masked.py:60: UserWarning: Pandas requires version '1.3.6' or newer of 'bottleneck' (version '1.3.5' currently installed).\n",
      "  from pandas.core import (\n"
     ]
    }
   ],
   "source": [
    "# Load modules\n",
    "import pandas as pd\n",
    "from SPARQLWrapper import SPARQLWrapper, JSON\n",
    "\n",
    "# Define the SPARQL endpoint\n",
    "sparql = SPARQLWrapper(\"https://query.wikidata.org/sparql\")\n",
    "sparql.setReturnFormat(JSON)\n",
    "\n",
    "# Function to execute a query and return results as a list of dictionaries\n",
    "def execute_query(query):\n",
    "    sparql.setQuery(query)\n",
    "    results = sparql.query().convert()\n",
    "    return results[\"results\"][\"bindings\"]"
   ]
  },
  {
   "cell_type": "markdown",
   "id": "3LdP6DTmPfQl",
   "metadata": {
    "id": "3LdP6DTmPfQl"
   },
   "source": [
    "## Collating the Queries"
   ]
  },
  {
   "cell_type": "code",
   "execution_count": 2,
   "id": "YcD4kCC9LkF2",
   "metadata": {
    "id": "YcD4kCC9LkF2"
   },
   "outputs": [],
   "source": [
    "# Define queries\n",
    "queries = {\n",
    "    'BNE': \"\"\"\n",
    "        PREFIX bne-def: <https://datos.bne.es/def/>\n",
    "        PREFIX dcterms: <http://purl.org/dc/terms/>\n",
    "\n",
    "        SELECT ?author ?work ?workLabel ?edition ?placeOfProduction ?yearOfPublication ?langCode\n",
    "        WHERE {\n",
    "            wd:Q2085725 wdt:P950 ?id .\n",
    "            wd:Q2085725 rdfs:label ?author.  FILTER(LANG(?author) = \"en\").\n",
    "            BIND(uri(concat(\"https://datos.bne.es/resource/\", ?id)) as ?bneID)\n",
    "            SERVICE <http://datos.bne.es/sparql> {\n",
    "                ?bneID bne-def:OP5001 ?work .\n",
    "                ?work rdfs:label ?workLabel .\n",
    "                OPTIONAL {?work bne-def:OP1002 ?m . ?m bne-def:OP2001 ?edition . ?edition bne-def:P3003 ?placeOfProduction}\n",
    "                OPTIONAL {?work bne-def:OP1002 ?m . ?m bne-def:OP2001 ?edition . ?edition bne-def:P3006 ?yearOfPublication}\n",
    "                OPTIONAL {?work bne-def:OP1002 ?m . ?m bne-def:OP2001 ?edition . ?edition dcterms:language ?langCode}\n",
    "            }\n",
    "        }\n",
    "        LIMIT 1000\n",
    "    \"\"\",\n",
    "    'BNF': \"\"\"\n",
    "        PREFIX dcterms: <http://purl.org/dc/terms/>\n",
    "        PREFIX rdarelationships: <http://rdvocab.info/RDARelationshipsWEMI/>\n",
    "        PREFIX rdagroup1elements: <http://rdvocab.info/Elements/>\n",
    "\n",
    "        SELECT ?author ?expression ?title ?edition ?placeOfPublication ?yearOfPublication ?langCode WHERE {\n",
    "            wd:Q2085725 wdt:P268 ?id\n",
    "            BIND(uri(concat(concat(\"http://data.bnf.fr/ark:/12148/cb\", ?id),\"#about\")) as ?author)\n",
    "            SERVICE <http://data.bnf.fr/sparql> {\n",
    "                ?expression <http://id.loc.gov/vocabulary/relators/aut> ?author .\n",
    "                OPTIONAL {?expression dcterms:language ?langCode .}\n",
    "                OPTIONAL {?expression dcterms:publisher ?edition .}\n",
    "                ?manifestation rdarelationships:expressionManifested ?expression .\n",
    "                ?manifestation dcterms:title ?title .\n",
    "                ?manifestation dcterms:date ?yearOfPublication .\n",
    "                OPTIONAL{ ?manifestation rdagroup1elements:placeOfPublication ?placeOfPublication .}\n",
    "            }\n",
    "        }\n",
    "        LIMIT 1000\n",
    "    \"\"\",\n",
    "    'BVMC': \"\"\"\n",
    "        PREFIX rdaw: <http://rdaregistry.info/Elements/w/>\n",
    "        PREFIX rdam: <http://rdaregistry.info/Elements/m/>\n",
    "        PREFIX rdae: <http://rdaregistry.info/Elements/e/>\n",
    "        PREFIX madsrdf: <http://www.loc.gov/mads/rdf/v1#>\n",
    "\n",
    "        SELECT ?author ?work ?workLabel ?placeOfProduction ?yearOfPublication ?langCode\n",
    "        WHERE {\n",
    "            wd:Q2085725 wdt:P2799 ?id .\n",
    "            wd:Q2085725 rdfs:label ?author.  FILTER(LANG(?author) = \"en\").\n",
    "            BIND(uri(concat(\"https://data.cervantesvirtual.com/person/\", ?id)) as ?bvmcID)\n",
    "            SERVICE <http://data.cervantesvirtual.com/openrdf-sesame/repositories/data> {\n",
    "                ?work rdaw:author ?bvmcID .\n",
    "                ?work rdfs:label ?workLabel .\n",
    "                ?work rdaw:manifestationOfWork ?manifestation .\n",
    "                ?work rdaw:expressionOfWork ?expression .\n",
    "                OPTIONAL {?expression rdae:languageOfExpression ?language . ?language madsrdf:code ?langCode .}\n",
    "                OPTIONAL {?manifestation rdam:placeOfProduction ?placeOfProduction .}\n",
    "                OPTIONAL {?manifestation rdam:dateOfPublication ?dateOfPublication . BIND(REPLACE(str(?dateOfPublication), \"https://data.cervantesvirtual.com/date/\", \"\", \"i\") AS ?yearOfPublication) .}\n",
    "            }\n",
    "        }\n",
    "        LIMIT 1000\n",
    "    \"\"\"\n",
    "}"
   ]
  },
  {
   "cell_type": "markdown",
   "id": "wH0yH1clPjvs",
   "metadata": {
    "id": "wH0yH1clPjvs"
   },
   "source": [
    "### Processing Queries Results"
   ]
  },
  {
   "cell_type": "code",
   "execution_count": 3,
   "id": "C8SM4M5ULqaO",
   "metadata": {
    "id": "C8SM4M5ULqaO"
   },
   "outputs": [],
   "source": [
    "# Function to process query results and return a list of dictionaries\n",
    "def process_query_results(results, source):\n",
    "    processed_data = []\n",
    "\n",
    "    # Define the field name mapping depending on the source\n",
    "    field_mapping = {\n",
    "        'BNE': {\n",
    "            'author': 'author',\n",
    "            'work': 'work',\n",
    "            'workLabel': 'workLabel',\n",
    "            'edition': 'edition',\n",
    "            'placeOfProduction': 'placeOfProduction',\n",
    "            'yearOfPublication': 'yearOfPublication',\n",
    "            'langCode': 'langCode'\n",
    "        },\n",
    "        'BNF': {\n",
    "            'author': 'author',\n",
    "            'work': 'expression',\n",
    "            'workLabel': 'title',\n",
    "            'edition': 'edition',\n",
    "            'placeOfProduction': 'placeOfPublication',\n",
    "            'yearOfPublication': 'yearOfPublication',\n",
    "            'langCode': 'langCode'\n",
    "        },\n",
    "        'BVMC': {\n",
    "            'author': 'author',\n",
    "            'work': 'work',\n",
    "            'workLabel': 'workLabel',\n",
    "            'edition': 'edition',\n",
    "            'placeOfProduction': 'placeOfProduction',\n",
    "            'yearOfPublication': 'yearOfPublication',\n",
    "            'langCode': 'langCode'\n",
    "        }\n",
    "    }\n",
    "\n",
    "    # Map the query result fields to the corresponding output fields\n",
    "    for result in results:\n",
    "        # For each source, apply the field mapping\n",
    "        author = result.get(field_mapping[source]['author'], {}).get('value', None)\n",
    "        work = result.get(field_mapping[source]['work'], {}).get('value', None)\n",
    "        workLabel = result.get(field_mapping[source]['workLabel'], {}).get('value', None)  # Removed comma here\n",
    "        edition = result.get(field_mapping[source]['edition'], {}).get('value', None)  # Removed comma here\n",
    "        placeOfProduction = result.get(field_mapping[source]['placeOfProduction'], {}).get('value', None)\n",
    "        yearOfPublication = result.get(field_mapping[source]['yearOfPublication'], {}).get('value', None)\n",
    "        langCode = result.get(field_mapping[source]['langCode'], {}).get('value', None)\n",
    "\n",
    "        # Handle missing or empty fields\n",
    "        placeOfProduction = placeOfProduction if placeOfProduction else 'Unknown'\n",
    "        yearOfPublication = yearOfPublication if yearOfPublication else 'Unknown'\n",
    "        langCode = langCode if langCode else 'Unknown'\n",
    "\n",
    "        # Append the processed result to the list\n",
    "        processed_data.append({\n",
    "            'source': source,\n",
    "            'author': author,\n",
    "            'work': work,\n",
    "            'workLabel': workLabel,\n",
    "            'edition': edition,\n",
    "            'placeOfProduction': placeOfProduction,\n",
    "            'yearOfPublication': yearOfPublication,\n",
    "            'langCode': langCode,\n",
    "        })\n",
    "\n",
    "    return processed_data"
   ]
  },
  {
   "cell_type": "code",
   "execution_count": 4,
   "id": "vjLWdn7VLsy6",
   "metadata": {
    "colab": {
     "base_uri": "https://localhost:8080/",
     "height": 1000
    },
    "id": "vjLWdn7VLsy6",
    "outputId": "924caabc-cc8a-4391-e9ca-acd1fa6a026a"
   },
   "outputs": [
    {
     "ename": "TypeError",
     "evalue": "Cannot convert numpy.ndarray to numpy.ndarray",
     "output_type": "error",
     "traceback": [
      "\u001b[0;31m---------------------------------------------------------------------------\u001b[0m",
      "\u001b[0;31mTypeError\u001b[0m                                 Traceback (most recent call last)",
      "Cell \u001b[0;32mIn[4], line 11\u001b[0m\n\u001b[1;32m      8\u001b[0m     queries_results\u001b[38;5;241m.\u001b[39mextend(processed_data)\n\u001b[1;32m     10\u001b[0m \u001b[38;5;66;03m# Create a dataframe from the collected results\u001b[39;00m\n\u001b[0;32m---> 11\u001b[0m df_combined \u001b[38;5;241m=\u001b[39m pd\u001b[38;5;241m.\u001b[39mDataFrame(queries_results, columns\u001b[38;5;241m=\u001b[39m[\u001b[38;5;124m'\u001b[39m\u001b[38;5;124msource\u001b[39m\u001b[38;5;124m'\u001b[39m, \u001b[38;5;124m'\u001b[39m\u001b[38;5;124mauthor\u001b[39m\u001b[38;5;124m'\u001b[39m, \u001b[38;5;124m'\u001b[39m\u001b[38;5;124mwork\u001b[39m\u001b[38;5;124m'\u001b[39m, \u001b[38;5;124m'\u001b[39m\u001b[38;5;124mworkLabel\u001b[39m\u001b[38;5;124m'\u001b[39m, \u001b[38;5;124m'\u001b[39m\u001b[38;5;124medition\u001b[39m\u001b[38;5;124m'\u001b[39m, \u001b[38;5;124m'\u001b[39m\u001b[38;5;124mplaceOfProduction\u001b[39m\u001b[38;5;124m'\u001b[39m, \u001b[38;5;124m'\u001b[39m\u001b[38;5;124myearOfPublication\u001b[39m\u001b[38;5;124m'\u001b[39m, \u001b[38;5;124m'\u001b[39m\u001b[38;5;124mlangCode\u001b[39m\u001b[38;5;124m'\u001b[39m])\n\u001b[1;32m     13\u001b[0m \u001b[38;5;66;03m# Preview the results\u001b[39;00m\n\u001b[1;32m     14\u001b[0m df_combined\u001b[38;5;241m.\u001b[39mhead(\u001b[38;5;241m10\u001b[39m)\n",
      "File \u001b[0;32m~/anaconda3/lib/python3.11/site-packages/pandas/core/frame.py:850\u001b[0m, in \u001b[0;36mDataFrame.__init__\u001b[0;34m(self, data, index, columns, dtype, copy)\u001b[0m\n\u001b[1;32m    847\u001b[0m \u001b[38;5;28;01mif\u001b[39;00m \u001b[38;5;129;01mnot\u001b[39;00m \u001b[38;5;28misinstance\u001b[39m(data, np\u001b[38;5;241m.\u001b[39mndarray) \u001b[38;5;129;01mand\u001b[39;00m treat_as_nested(data):\n\u001b[1;32m    848\u001b[0m     \u001b[38;5;66;03m# exclude ndarray as we may have cast it a few lines above\u001b[39;00m\n\u001b[1;32m    849\u001b[0m     \u001b[38;5;28;01mif\u001b[39;00m columns \u001b[38;5;129;01mis\u001b[39;00m \u001b[38;5;129;01mnot\u001b[39;00m \u001b[38;5;28;01mNone\u001b[39;00m:\n\u001b[0;32m--> 850\u001b[0m         columns \u001b[38;5;241m=\u001b[39m ensure_index(columns)\n\u001b[1;32m    851\u001b[0m     arrays, columns, index \u001b[38;5;241m=\u001b[39m nested_data_to_arrays(\n\u001b[1;32m    852\u001b[0m         \u001b[38;5;66;03m# error: Argument 3 to \"nested_data_to_arrays\" has incompatible\u001b[39;00m\n\u001b[1;32m    853\u001b[0m         \u001b[38;5;66;03m# type \"Optional[Collection[Any]]\"; expected \"Optional[Index]\"\u001b[39;00m\n\u001b[0;32m   (...)\u001b[0m\n\u001b[1;32m    857\u001b[0m         dtype,\n\u001b[1;32m    858\u001b[0m     )\n\u001b[1;32m    859\u001b[0m     mgr \u001b[38;5;241m=\u001b[39m arrays_to_mgr(\n\u001b[1;32m    860\u001b[0m         arrays,\n\u001b[1;32m    861\u001b[0m         columns,\n\u001b[0;32m   (...)\u001b[0m\n\u001b[1;32m    864\u001b[0m         typ\u001b[38;5;241m=\u001b[39mmanager,\n\u001b[1;32m    865\u001b[0m     )\n",
      "File \u001b[0;32m~/anaconda3/lib/python3.11/site-packages/pandas/core/indexes/base.py:7647\u001b[0m, in \u001b[0;36mensure_index\u001b[0;34m(index_like, copy)\u001b[0m\n\u001b[1;32m   7645\u001b[0m         \u001b[38;5;28;01mreturn\u001b[39;00m MultiIndex\u001b[38;5;241m.\u001b[39mfrom_arrays(index_like)\n\u001b[1;32m   7646\u001b[0m     \u001b[38;5;28;01melse\u001b[39;00m:\n\u001b[0;32m-> 7647\u001b[0m         \u001b[38;5;28;01mreturn\u001b[39;00m Index(index_like, copy\u001b[38;5;241m=\u001b[39mcopy, tupleize_cols\u001b[38;5;241m=\u001b[39m\u001b[38;5;28;01mFalse\u001b[39;00m)\n\u001b[1;32m   7648\u001b[0m \u001b[38;5;28;01melse\u001b[39;00m:\n\u001b[1;32m   7649\u001b[0m     \u001b[38;5;28;01mreturn\u001b[39;00m Index(index_like, copy\u001b[38;5;241m=\u001b[39mcopy)\n",
      "File \u001b[0;32m~/anaconda3/lib/python3.11/site-packages/pandas/core/indexes/base.py:565\u001b[0m, in \u001b[0;36mIndex.__new__\u001b[0;34m(cls, data, dtype, copy, name, tupleize_cols)\u001b[0m\n\u001b[1;32m    562\u001b[0m         data \u001b[38;5;241m=\u001b[39m com\u001b[38;5;241m.\u001b[39masarray_tuplesafe(data, dtype\u001b[38;5;241m=\u001b[39m_dtype_obj)\n\u001b[1;32m    564\u001b[0m \u001b[38;5;28;01mtry\u001b[39;00m:\n\u001b[0;32m--> 565\u001b[0m     arr \u001b[38;5;241m=\u001b[39m sanitize_array(data, \u001b[38;5;28;01mNone\u001b[39;00m, dtype\u001b[38;5;241m=\u001b[39mdtype, copy\u001b[38;5;241m=\u001b[39mcopy)\n\u001b[1;32m    566\u001b[0m \u001b[38;5;28;01mexcept\u001b[39;00m \u001b[38;5;167;01mValueError\u001b[39;00m \u001b[38;5;28;01mas\u001b[39;00m err:\n\u001b[1;32m    567\u001b[0m     \u001b[38;5;28;01mif\u001b[39;00m \u001b[38;5;124m\"\u001b[39m\u001b[38;5;124mindex must be specified when data is not list-like\u001b[39m\u001b[38;5;124m\"\u001b[39m \u001b[38;5;129;01min\u001b[39;00m \u001b[38;5;28mstr\u001b[39m(err):\n",
      "File \u001b[0;32m~/anaconda3/lib/python3.11/site-packages/pandas/core/construction.py:654\u001b[0m, in \u001b[0;36msanitize_array\u001b[0;34m(data, index, dtype, copy, allow_2d)\u001b[0m\n\u001b[1;32m    651\u001b[0m     subarr \u001b[38;5;241m=\u001b[39m _try_cast(data, dtype, copy)\n\u001b[1;32m    653\u001b[0m \u001b[38;5;28;01melse\u001b[39;00m:\n\u001b[0;32m--> 654\u001b[0m     subarr \u001b[38;5;241m=\u001b[39m maybe_convert_platform(data)\n\u001b[1;32m    655\u001b[0m     \u001b[38;5;28;01mif\u001b[39;00m subarr\u001b[38;5;241m.\u001b[39mdtype \u001b[38;5;241m==\u001b[39m \u001b[38;5;28mobject\u001b[39m:\n\u001b[1;32m    656\u001b[0m         subarr \u001b[38;5;241m=\u001b[39m cast(np\u001b[38;5;241m.\u001b[39mndarray, subarr)\n",
      "File \u001b[0;32m~/anaconda3/lib/python3.11/site-packages/pandas/core/dtypes/cast.py:138\u001b[0m, in \u001b[0;36mmaybe_convert_platform\u001b[0;34m(values)\u001b[0m\n\u001b[1;32m    136\u001b[0m \u001b[38;5;28;01mif\u001b[39;00m arr\u001b[38;5;241m.\u001b[39mdtype \u001b[38;5;241m==\u001b[39m _dtype_obj:\n\u001b[1;32m    137\u001b[0m     arr \u001b[38;5;241m=\u001b[39m cast(np\u001b[38;5;241m.\u001b[39mndarray, arr)\n\u001b[0;32m--> 138\u001b[0m     arr \u001b[38;5;241m=\u001b[39m lib\u001b[38;5;241m.\u001b[39mmaybe_convert_objects(arr)\n\u001b[1;32m    140\u001b[0m \u001b[38;5;28;01mreturn\u001b[39;00m arr\n",
      "File \u001b[0;32mlib.pyx:2538\u001b[0m, in \u001b[0;36mpandas._libs.lib.maybe_convert_objects\u001b[0;34m()\u001b[0m\n",
      "\u001b[0;31mTypeError\u001b[0m: Cannot convert numpy.ndarray to numpy.ndarray"
     ]
    }
   ],
   "source": [
    "# Create an empty list to collect the queries results\n",
    "queries_results = []\n",
    "\n",
    "# Execute each query, process the results, and extend to the queries_results list\n",
    "for source, query in queries.items():\n",
    "    results = execute_query(query)\n",
    "    processed_data = process_query_results(results, source)\n",
    "    queries_results.extend(processed_data)\n",
    "\n",
    "# Create a dataframe from the collected results\n",
    "df_combined = pd.DataFrame(queries_results, columns=['source', 'author', 'work', 'workLabel', 'edition', 'placeOfProduction', 'yearOfPublication', 'langCode'])\n",
    "\n",
    "# Preview the results\n",
    "df_combined.head(10)"
   ]
  },
  {
   "cell_type": "code",
   "execution_count": null,
   "id": "or-hPOViH5Xq",
   "metadata": {
    "colab": {
     "base_uri": "https://localhost:8080/",
     "height": 264
    },
    "id": "or-hPOViH5Xq",
    "outputId": "f689ad9b-e4db-4f72-ce98-8803be4068be"
   },
   "outputs": [],
   "source": [
    "# Describe the results\n",
    "df_combined.describe()"
   ]
  },
  {
   "cell_type": "code",
   "execution_count": null,
   "id": "Uvj1C6jLMoZy",
   "metadata": {
    "id": "Uvj1C6jLMoZy"
   },
   "outputs": [],
   "source": [
    "# Export the results dataframe in .CSV file format\n",
    "df_combined.to_csv('df_combined.csv', index=False)"
   ]
  },
  {
   "cell_type": "code",
   "execution_count": null,
   "id": "766063d8-7081-4d1a-b940-e7f70b1664d1",
   "metadata": {},
   "outputs": [],
   "source": []
  }
 ],
 "metadata": {
  "colab": {
   "provenance": []
  },
  "kernelspec": {
   "display_name": "Python [conda env:base] *",
   "language": "python",
   "name": "conda-base-py"
  },
  "language_info": {
   "codemirror_mode": {
    "name": "ipython",
    "version": 3
   },
   "file_extension": ".py",
   "mimetype": "text/x-python",
   "name": "python",
   "nbconvert_exporter": "python",
   "pygments_lexer": "ipython3",
   "version": "3.11.11"
  }
 },
 "nbformat": 4,
 "nbformat_minor": 5
}
